{
 "cells": [
  {
   "cell_type": "code",
   "execution_count": null,
   "id": "d82e9fb9",
   "metadata": {
    "vscode": {
     "languageId": "plaintext"
    }
   },
   "outputs": [],
   "source": [
    "import pandas as pd \n",
    "import numpy as np \n",
    "import matplotlib.pyplot as plt \n",
    "import seaborn as sns\n",
    "\n",
    "df = pd.read_csv('../data/raw/creditcard.csv')\n",
    "\n",
    "df['Hour'] = ((df['Time'] // 3600) % 24).astype(int)"
   ]
  },
  {
   "cell_type": "code",
   "execution_count": null,
   "id": "04f6fc9d",
   "metadata": {
    "vscode": {
     "languageId": "plaintext"
    }
   },
   "outputs": [],
   "source": [
    "df['Amount_log'] = np.log1p(df['Amount'])\n",
    "\n",
    "df['Amount_bin'] = pd.qcut(df['Amount'], q=4, labels=['low', 'mid-low', 'mid-high', 'high'])\n",
    "\n",
    "df['Is_Night'] = df['Hour'].apply(lambda x: 1 if x <= 6 else 0)\n",
    "\n",
    "df['Hour_sin'] = np.sin(2 * np.pi * df['Hour'] / 24)\n",
    "df['Hour_cos'] = np.cos(2 * np.pi * df['Hour'] / 24)"
   ]
  },
  {
   "cell_type": "code",
   "execution_count": null,
   "id": "e1755a4c",
   "metadata": {
    "vscode": {
     "languageId": "plaintext"
    }
   },
   "outputs": [],
   "source": [
    "df.to_csv('../data/processed/creditcard_processed.csv', index=False)"
   ]
  }
 ],
 "metadata": {
  "language_info": {
   "name": "python"
  }
 },
 "nbformat": 4,
 "nbformat_minor": 5
}
