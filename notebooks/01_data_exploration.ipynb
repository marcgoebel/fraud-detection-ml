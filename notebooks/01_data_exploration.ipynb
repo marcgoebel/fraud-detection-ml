{
 "cells": [
  {
   "cell_type": "code",
   "execution_count": null,
   "id": "85bb1ec7",
   "metadata": {
    "vscode": {
     "languageId": "plaintext"
    }
   },
   "outputs": [],
   "source": [
    "# 📦 Imports – alle gesammelt oben\n",
    "import pandas as pd\n",
    "import numpy as np\n",
    "import matplotlib.pyplot as plt\n",
    "import seaborn as sns\n",
    "\n",
    "from sklearn.preprocessing import StandardScaler\n",
    "from sklearn.decomposition import PCA\n",
    "\n",
    "# 📂 Daten laden\n",
    "df = pd.read_csv('../data/raw/creditcard.csv')\n",
    "\n",
    "# 🔍 Grundstruktur prüfen\n",
    "print(\"Shape:\", df.shape)\n",
    "display(df.head())\n"
   ]
  },
  {
   "cell_type": "code",
   "execution_count": null,
   "id": "0ebf9788",
   "metadata": {
    "vscode": {
     "languageId": "plaintext"
    }
   },
   "outputs": [],
   "source": [
    "# Klassenverteilung zählen\n",
    "print(df['Class'].value_counts())\n",
    "\n",
    "# Prozentual\n",
    "fraud_pct = df['Class'].value_counts(normalize=True) * 100\n",
    "print(\"Prozentuale Verteilung:\\n\", fraud_pct)\n",
    "\n",
    "# Visualisierung\n",
    "plt.figure(figsize=(6,4))\n",
    "sns.countplot(data=df, x='Class')\n",
    "plt.title('Verteilung: Legit vs Fraud')\n",
    "plt.xticks([0, 1], ['Legit (0)', 'Fraud (1)'])\n",
    "plt.show()\n",
    "\n"
   ]
  },
  {
   "cell_type": "code",
   "execution_count": null,
   "id": "db12e4a2",
   "metadata": {
    "vscode": {
     "languageId": "plaintext"
    }
   },
   "outputs": [],
   "source": [
    "# 'Time' ist in Sekunden seit Start → konvertieren in Stunden (0–23)\n",
    "df['Hour'] = ((df['Time'] // 3600) % 24).astype(int)\n",
    "\n",
    "# Legit vs Fraud pro Stunde\n",
    "plt.figure(figsize=(10,5))\n",
    "sns.histplot(data=df[df['Class'] == 0], x='Hour', bins=24, color='blue', label='Legit', stat='density', kde=True)\n",
    "sns.histplot(data=df[df['Class'] == 1], x='Hour', bins=24, color='red', label='Fraud', stat='density', kde=True)\n",
    "plt.title('Verteilung der Transaktionen über den Tag')\n",
    "plt.xlabel('Stunde des Tages')\n",
    "plt.legend()\n",
    "plt.show()\n",
    "\n"
   ]
  },
  {
   "cell_type": "code",
   "execution_count": null,
   "id": "3a726169",
   "metadata": {
    "vscode": {
     "languageId": "plaintext"
    }
   },
   "outputs": [],
   "source": [
    "tx_per_hour = df.groupby('Hour').size()\n",
    "\n",
    "plt.figure(figsize=(10,4))\n",
    "tx_per_hour.plot(kind='bar', color='gray')\n",
    "plt.title('Anzahl der Transaktionen je Stunde')\n",
    "plt.xlabel('Stunde des Tages')\n",
    "plt.ylabel('Anzahl')\n",
    "plt.show()\n"
   ]
  },
  {
   "cell_type": "code",
   "execution_count": null,
   "id": "15906f37",
   "metadata": {
    "vscode": {
     "languageId": "plaintext"
    }
   },
   "outputs": [],
   "source": [
    "# Korrelationen mit Zielspalte anzeigen\n",
    "correlation = df.corr(numeric_only=True)['Class'].sort_values(ascending=False)\n",
    "print(\"Top positive Korrelationen:\\n\", correlation.head(10))\n",
    "print(\"\\nTop negative Korrelationen:\\n\", correlation.tail(10))\n",
    "\n",
    "# Heatmap\n",
    "plt.figure(figsize=(12,10))\n",
    "sns.heatmap(df.corr(numeric_only=True), cmap='coolwarm_r', annot=False)\n",
    "plt.title('Korrelationen der Features')\n",
    "plt.show()\n"
   ]
  },
  {
   "cell_type": "code",
   "execution_count": null,
   "id": "91ef7a42",
   "metadata": {
    "vscode": {
     "languageId": "plaintext"
    }
   },
   "outputs": [],
   "source": [
    "# Frisches DataFrame zur Sicherheit\n",
    "df_pca = df.copy()\n",
    "\n",
    "# Ziel- und Nicht-Zielspalten trennen\n",
    "X = df_pca.drop(columns=['Class', 'Time', 'Hour'])\n",
    "y = df_pca['Class']\n",
    "\n",
    "# Skalieren\n",
    "scaler = StandardScaler()\n",
    "X_scaled = scaler.fit_transform(X)\n",
    "\n",
    "# PCA auf 2 Komponenten\n",
    "pca = PCA(n_components=2)\n",
    "X_pca = pca.fit_transform(X_scaled)\n",
    "\n",
    "# DataFrame für Plot\n",
    "pca_df = pd.DataFrame(X_pca, columns=['PC1', 'PC2'])\n",
    "pca_df['Class'] = y.values\n",
    "\n",
    "# Plot\n",
    "plt.figure(figsize=(8,6))\n",
    "sns.scatterplot(data=pca_df, x='PC1', y='PC2', hue='Class', alpha=0.6, palette='coolwarm')\n",
    "plt.title('PCA der Transaktionen')\n",
    "plt.show()\n",
    "\n",
    "# Erklärte Varianz anzeigen\n",
    "explained = pca.explained_variance_ratio_\n",
    "print(f\"Erklärte Varianz (PC1 & PC2): {explained[0]:.4f}, {explained[1]:.4f}  → Gesamt: {explained.sum():.4f}\")\n"
   ]
  }
 ],
 "metadata": {
  "language_info": {
   "name": "python"
  }
 },
 "nbformat": 4,
 "nbformat_minor": 5
}
